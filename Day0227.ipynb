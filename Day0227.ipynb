{
 "cells": [
  {
   "cell_type": "code",
   "execution_count": 1,
   "metadata": {},
   "outputs": [
    {
     "name": "stdout",
     "output_type": "stream",
     "text": [
      "Hello Anaconda\n"
     ]
    }
   ],
   "source": [
    "print(\"Hello Anaconda\")"
   ]
  },
  {
   "cell_type": "code",
   "execution_count": 33,
   "metadata": {
    "scrolled": true
   },
   "outputs": [
    {
     "data": {
      "text/html": [
       "<div>\n",
       "<style scoped>\n",
       "    .dataframe tbody tr th:only-of-type {\n",
       "        vertical-align: middle;\n",
       "    }\n",
       "\n",
       "    .dataframe tbody tr th {\n",
       "        vertical-align: top;\n",
       "    }\n",
       "\n",
       "    .dataframe thead th {\n",
       "        text-align: right;\n",
       "    }\n",
       "</style>\n",
       "<table border=\"1\" class=\"dataframe\">\n",
       "  <thead>\n",
       "    <tr style=\"text-align: right;\">\n",
       "      <th></th>\n",
       "      <th>Date</th>\n",
       "      <th>Adj Close</th>\n",
       "    </tr>\n",
       "  </thead>\n",
       "  <tbody>\n",
       "    <tr>\n",
       "      <th>48</th>\n",
       "      <td>49</td>\n",
       "      <td>1402.050049</td>\n",
       "    </tr>\n",
       "    <tr>\n",
       "      <th>49</th>\n",
       "      <td>50</td>\n",
       "      <td>1429.949951</td>\n",
       "    </tr>\n",
       "    <tr>\n",
       "      <th>50</th>\n",
       "      <td>51</td>\n",
       "      <td>1339.599976</td>\n",
       "    </tr>\n",
       "    <tr>\n",
       "      <th>51</th>\n",
       "      <td>52</td>\n",
       "      <td>1448.689941</td>\n",
       "    </tr>\n",
       "    <tr>\n",
       "      <th>52</th>\n",
       "      <td>53</td>\n",
       "      <td>1448.689941</td>\n",
       "    </tr>\n",
       "  </tbody>\n",
       "</table>\n",
       "</div>"
      ],
      "text/plain": [
       "    Date    Adj Close\n",
       "48    49  1402.050049\n",
       "49    50  1429.949951\n",
       "50    51  1339.599976\n",
       "51    52  1448.689941\n",
       "52    53  1448.689941"
      ]
     },
     "execution_count": 33,
     "metadata": {},
     "output_type": "execute_result"
    }
   ],
   "source": [
    "##reading a file using pandas\n",
    "import pandas as pd\n",
    "df = pd.read_csv('AMZN.csv')\n",
    "df.head(50) ##for first 50\n",
    "df.tail(5) ##for last five"
   ]
  },
  {
   "cell_type": "code",
   "execution_count": 34,
   "metadata": {},
   "outputs": [
    {
     "name": "stdout",
     "output_type": "stream",
     "text": [
      "<class 'pandas.core.frame.DataFrame'>\n",
      "RangeIndex: 53 entries, 0 to 52\n",
      "Data columns (total 2 columns):\n",
      "Date         53 non-null int64\n",
      "Adj Close    53 non-null float64\n",
      "dtypes: float64(1), int64(1)\n",
      "memory usage: 928.0 bytes\n"
     ]
    }
   ],
   "source": [
    "df.info() ##gives you info of all the columns and the entire df, size, columns, indexes, types"
   ]
  },
  {
   "cell_type": "code",
   "execution_count": 4,
   "metadata": {},
   "outputs": [
    {
     "name": "stdout",
     "output_type": "stream",
     "text": [
      "   Date   Adj Close\n",
      "0     1  845.239990\n",
      "1     2  849.880005\n",
      "2     3  852.460022\n",
      "   Date   Adj Close\n",
      "1     2  849.880005\n",
      "2     3  852.460022\n"
     ]
    }
   ],
   "source": [
    "print(df[0:3])\n",
    "##3 is for row\n",
    "##0 is for column\n",
    "\n",
    "print(df[1:3])\n",
    "##1 is for row\n",
    "##3 is for column"
   ]
  },
  {
   "cell_type": "code",
   "execution_count": 28,
   "metadata": {},
   "outputs": [
    {
     "name": "stdout",
     "output_type": "stream",
     "text": [
      "27.0\n",
      "1049.6626345283014\n",
      "27.0\n"
     ]
    }
   ],
   "source": [
    "##different ways to address a column in a df\n",
    "print(df['Date'].mean())\n",
    "print(df['Adj Close'].mean())"
   ]
  },
  {
   "cell_type": "code",
   "execution_count": 32,
   "metadata": {},
   "outputs": [
    {
     "data": {
      "text/plain": [
       "Index(['Date', 'Adj Close'], dtype='object')"
      ]
     },
     "execution_count": 32,
     "metadata": {},
     "output_type": "execute_result"
    }
   ],
   "source": [
    "##to get the data type\n",
    "type(df['Adj Close'])\n",
    "##to get all the column names\n",
    "df.columns"
   ]
  },
  {
   "cell_type": "code",
   "execution_count": 35,
   "metadata": {},
   "outputs": [
    {
     "data": {
      "text/plain": [
       "0      1\n",
       "1      2\n",
       "2      3\n",
       "3      4\n",
       "4      5\n",
       "5      6\n",
       "6      7\n",
       "7      8\n",
       "8      9\n",
       "9     10\n",
       "10    11\n",
       "11    12\n",
       "12    13\n",
       "13    14\n",
       "14    15\n",
       "15    16\n",
       "16    17\n",
       "17    18\n",
       "18    19\n",
       "19    20\n",
       "20    21\n",
       "21    22\n",
       "22    23\n",
       "23    24\n",
       "24    25\n",
       "25    26\n",
       "26    27\n",
       "27    28\n",
       "28    29\n",
       "29    30\n",
       "30    31\n",
       "31    32\n",
       "32    33\n",
       "33    34\n",
       "34    35\n",
       "35    36\n",
       "36    37\n",
       "37    38\n",
       "38    39\n",
       "39    40\n",
       "40    41\n",
       "41    42\n",
       "42    43\n",
       "43    44\n",
       "44    45\n",
       "45    46\n",
       "46    47\n",
       "47    48\n",
       "48    49\n",
       "49    50\n",
       "50    51\n",
       "51    52\n",
       "52    53\n",
       "Name: Date, dtype: int64"
      ]
     },
     "execution_count": 35,
     "metadata": {},
     "output_type": "execute_result"
    }
   ],
   "source": [
    "##in case you find NAs in your data\n",
    "df['Date'].fillna(value=df['Date'].mean())\n",
    "##df.dropna() drops all the columns that have NAs. Rarely used but effective"
   ]
  },
  {
   "cell_type": "code",
   "execution_count": 40,
   "metadata": {},
   "outputs": [
    {
     "data": {
      "text/html": [
       "<div>\n",
       "<style scoped>\n",
       "    .dataframe tbody tr th:only-of-type {\n",
       "        vertical-align: middle;\n",
       "    }\n",
       "\n",
       "    .dataframe tbody tr th {\n",
       "        vertical-align: top;\n",
       "    }\n",
       "\n",
       "    .dataframe thead th {\n",
       "        text-align: right;\n",
       "    }\n",
       "</style>\n",
       "<table border=\"1\" class=\"dataframe\">\n",
       "  <thead>\n",
       "    <tr style=\"text-align: right;\">\n",
       "      <th></th>\n",
       "      <th>Weekday</th>\n",
       "      <th>Customer</th>\n",
       "      <th>Date</th>\n",
       "      <th>Flavor</th>\n",
       "      <th>Revenue</th>\n",
       "      <th>Profit</th>\n",
       "      <th>Unnamed: 6</th>\n",
       "      <th>352</th>\n",
       "      <th>256.5</th>\n",
       "      <th>Unnamed: 9</th>\n",
       "      <th>Unnamed: 10</th>\n",
       "      <th>Unnamed: 11</th>\n",
       "      <th>Unnamed: 12</th>\n",
       "      <th>Unnamed: 13</th>\n",
       "      <th>Unnamed: 14</th>\n",
       "    </tr>\n",
       "  </thead>\n",
       "  <tbody>\n",
       "    <tr>\n",
       "      <th>0</th>\n",
       "      <td>4</td>\n",
       "      <td>Drew Roulette</td>\n",
       "      <td>2018-03-01</td>\n",
       "      <td>Chocolate</td>\n",
       "      <td>4.0</td>\n",
       "      <td>3.00</td>\n",
       "      <td>NaN</td>\n",
       "      <td>Revenue</td>\n",
       "      <td>Profit</td>\n",
       "      <td>NaN</td>\n",
       "      <td>NaN</td>\n",
       "      <td>NaN</td>\n",
       "      <td>NaN</td>\n",
       "      <td>NaN</td>\n",
       "      <td>NaN</td>\n",
       "    </tr>\n",
       "    <tr>\n",
       "      <th>1</th>\n",
       "      <td>5</td>\n",
       "      <td>Don Frazon</td>\n",
       "      <td>2018-03-02</td>\n",
       "      <td>Vanilla</td>\n",
       "      <td>4.0</td>\n",
       "      <td>3.00</td>\n",
       "      <td>NaN</td>\n",
       "      <td>95.5</td>\n",
       "      <td>NaN</td>\n",
       "      <td>NaN</td>\n",
       "      <td>NaN</td>\n",
       "      <td>NaN</td>\n",
       "      <td>NaN</td>\n",
       "      <td>NaN</td>\n",
       "      <td>NaN</td>\n",
       "    </tr>\n",
       "    <tr>\n",
       "      <th>2</th>\n",
       "      <td>5</td>\n",
       "      <td>Erin Davidson</td>\n",
       "      <td>2018-03-02</td>\n",
       "      <td>Vanilla</td>\n",
       "      <td>4.0</td>\n",
       "      <td>3.00</td>\n",
       "      <td>NaN</td>\n",
       "      <td>Cost</td>\n",
       "      <td>NaN</td>\n",
       "      <td>NaN</td>\n",
       "      <td>NaN</td>\n",
       "      <td>NaN</td>\n",
       "      <td>NaN</td>\n",
       "      <td>NaN</td>\n",
       "      <td>NaN</td>\n",
       "    </tr>\n",
       "    <tr>\n",
       "      <th>3</th>\n",
       "      <td>5</td>\n",
       "      <td>Ted Price</td>\n",
       "      <td>2018-03-02</td>\n",
       "      <td>Chocolate</td>\n",
       "      <td>4.0</td>\n",
       "      <td>3.00</td>\n",
       "      <td>NaN</td>\n",
       "      <td>NaN</td>\n",
       "      <td>NaN</td>\n",
       "      <td>NaN</td>\n",
       "      <td>NaN</td>\n",
       "      <td>NaN</td>\n",
       "      <td>NaN</td>\n",
       "      <td>NaN</td>\n",
       "      <td>profit</td>\n",
       "    </tr>\n",
       "    <tr>\n",
       "      <th>4</th>\n",
       "      <td>6</td>\n",
       "      <td>Lila Stevens</td>\n",
       "      <td>2018-03-03</td>\n",
       "      <td>Cookie Dough</td>\n",
       "      <td>5.0</td>\n",
       "      <td>3.75</td>\n",
       "      <td>NaN</td>\n",
       "      <td>NaN</td>\n",
       "      <td>Customer</td>\n",
       "      <td>Revenue</td>\n",
       "      <td>Profit</td>\n",
       "      <td>Profit %</td>\n",
       "      <td>Order Count</td>\n",
       "      <td>Contribution</td>\n",
       "      <td>Avg per order</td>\n",
       "    </tr>\n",
       "  </tbody>\n",
       "</table>\n",
       "</div>"
      ],
      "text/plain": [
       "   Weekday       Customer       Date        Flavor  Revenue  Profit  \\\n",
       "0        4  Drew Roulette 2018-03-01     Chocolate      4.0    3.00   \n",
       "1        5     Don Frazon 2018-03-02       Vanilla      4.0    3.00   \n",
       "2        5  Erin Davidson 2018-03-02       Vanilla      4.0    3.00   \n",
       "3        5      Ted Price 2018-03-02     Chocolate      4.0    3.00   \n",
       "4        6   Lila Stevens 2018-03-03  Cookie Dough      5.0    3.75   \n",
       "\n",
       "   Unnamed: 6      352     256.5 Unnamed: 9 Unnamed: 10 Unnamed: 11  \\\n",
       "0         NaN  Revenue    Profit        NaN         NaN         NaN   \n",
       "1         NaN     95.5       NaN        NaN         NaN         NaN   \n",
       "2         NaN     Cost       NaN        NaN         NaN         NaN   \n",
       "3         NaN      NaN       NaN        NaN         NaN         NaN   \n",
       "4         NaN      NaN  Customer    Revenue      Profit    Profit %   \n",
       "\n",
       "   Unnamed: 12   Unnamed: 13    Unnamed: 14  \n",
       "0          NaN           NaN            NaN  \n",
       "1          NaN           NaN            NaN  \n",
       "2          NaN           NaN            NaN  \n",
       "3          NaN           NaN         profit  \n",
       "4  Order Count  Contribution  Avg per order  "
      ]
     },
     "execution_count": 40,
     "metadata": {},
     "output_type": "execute_result"
    }
   ],
   "source": [
    "##Learn group by with a better data set\n",
    "##reading an excel file\n",
    "df1 = pd.read_excel(\"IceCreamDataSet Wayfair.xlsx\",sheet_name='Sheet1')\n",
    "df1.head(5)"
   ]
  },
  {
   "cell_type": "code",
   "execution_count": 57,
   "metadata": {},
   "outputs": [
    {
     "name": "stdout",
     "output_type": "stream",
     "text": [
      "<class 'pandas.core.frame.DataFrame'>\n",
      "RangeIndex: 86 entries, 0 to 85\n",
      "Data columns (total 15 columns):\n",
      "Weekday        86 non-null int64\n",
      "Customer       86 non-null object\n",
      "Date           86 non-null datetime64[ns]\n",
      "Flavor         86 non-null object\n",
      "Revenue        86 non-null float64\n",
      "Profit         86 non-null float64\n",
      "Unnamed: 6     5 non-null float64\n",
      "352            8 non-null object\n",
      "256.5          20 non-null object\n",
      "Unnamed: 9     19 non-null object\n",
      "Unnamed: 10    19 non-null object\n",
      "Unnamed: 11    19 non-null object\n",
      "Unnamed: 12    19 non-null object\n",
      "Unnamed: 13    19 non-null object\n",
      "Unnamed: 14    20 non-null object\n",
      "dtypes: datetime64[ns](1), float64(3), int64(1), object(10)\n",
      "memory usage: 10.2+ KB\n",
      "    Weekday          Customer       Date          Flavor  Revenue  Profit\n",
      "0         4     Drew Roulette 2018-03-01       Chocolate      4.0    3.00\n",
      "1         5        Don Frazon 2018-03-02         Vanilla      4.0    3.00\n",
      "2         5     Erin Davidson 2018-03-02         Vanilla      4.0    3.00\n",
      "3         5         Ted Price 2018-03-02       Chocolate      4.0    3.00\n",
      "4         6      Lila Stevens 2018-03-03    Cookie Dough      5.0    3.75\n",
      "5         6     Sierra Noonan 2018-03-03    Cookie Dough      5.0    3.75\n",
      "6         6    Ian Richardson 2018-03-03       Chocolate      4.0    3.00\n",
      "7         7     Drew Roulette 2018-03-04  Chocolate Chip      5.0    3.75\n",
      "8         7     Sean Lansfrow 2018-03-04         Vanilla      4.0    3.00\n",
      "9         7  Malcolm Benjamin 2018-03-04    Cookie Dough      5.0    3.75\n",
      "10        2     Erin Davidson 2018-03-06    Cookie Dough      5.0    3.75\n",
      "11        2         Ted Price 2018-03-06       Chocolate      4.0    3.00\n",
      "12        3   Dennis Perelman 2018-03-07    Cookie Dough      5.0    3.75\n",
      "13        3      Lila Stevens 2018-03-07    Cookie Dough      5.0    3.75\n",
      "14        3    Silvio Carrera 2018-03-07    Cookie Dough      5.0    3.75\n",
      "<class 'pandas.core.frame.DataFrame'>\n",
      "RangeIndex: 85 entries, 0 to 84\n",
      "Data columns (total 6 columns):\n",
      "Weekday     85 non-null int64\n",
      "Customer    85 non-null object\n",
      "Date        85 non-null datetime64[ns]\n",
      "Flavor      85 non-null object\n",
      "Revenue     85 non-null float64\n",
      "Profit      85 non-null float64\n",
      "dtypes: datetime64[ns](1), float64(2), int64(1), object(2)\n",
      "memory usage: 4.1+ KB\n"
     ]
    }
   ],
   "source": [
    "df1.info()\n",
    "##to consider only the relevant columns and saving them to the new dataframe\n",
    "df2 = df1.iloc[0:85,0:6]\n",
    "print(df2.head(15))\n",
    "df2.info()\n"
   ]
  },
  {
   "cell_type": "code",
   "execution_count": 80,
   "metadata": {},
   "outputs": [
    {
     "name": "stdout",
     "output_type": "stream",
     "text": [
      "                Flavor\n",
      "Flavor                \n",
      "Chocolate           22\n",
      "Chocolate Chip      16\n",
      "Cookie Dough        13\n",
      "Mint Chip            8\n",
      "Vanilla             26\n",
      "                Profit\n",
      "Flavor                \n",
      "Chocolate        60.00\n",
      "Chocolate Chip   50.00\n",
      "Cookie Dough     48.75\n",
      "Mint Chip        30.00\n",
      "Vanilla          64.00\n",
      "                  Profit\n",
      "Customer                \n",
      "Dennis Perelman    11.50\n",
      "Don Frazon         19.50\n",
      "Drew Roulette      20.50\n",
      "Erin Davidson      15.75\n",
      "Ian Richardson     19.75\n",
      "Lila Stevens       18.75\n",
      "Malcolm Benjamin   22.25\n",
      "Sean Lansfrow      22.00\n",
      "Sierra Noonan      34.00\n",
      "Silvio Carrera     21.50\n",
      "Ted Price          25.00\n",
      "Tony DiCenzo       22.25\n"
     ]
    }
   ],
   "source": [
    "##group by in pandas\n",
    "summaryop = df2.groupby('Flavor')[['Flavor']].count()\n",
    "print(summaryop)\n",
    "\n",
    "summaryop = df2.groupby('Flavor')[['Profit']].sum()\n",
    "print(summaryop)\n",
    "\n",
    "\n",
    "summaryop = df2.groupby('Customer')[['Profit']].sum()\n",
    "print(summaryop)"
   ]
  }
 ],
 "metadata": {
  "kernelspec": {
   "display_name": "Python 3",
   "language": "python",
   "name": "python3"
  },
  "language_info": {
   "codemirror_mode": {
    "name": "ipython",
    "version": 3
   },
   "file_extension": ".py",
   "mimetype": "text/x-python",
   "name": "python",
   "nbconvert_exporter": "python",
   "pygments_lexer": "ipython3",
   "version": "3.7.1"
  }
 },
 "nbformat": 4,
 "nbformat_minor": 2
}
